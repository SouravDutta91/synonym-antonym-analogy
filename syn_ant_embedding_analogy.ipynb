{
 "cells": [
  {
   "cell_type": "markdown",
   "metadata": {},
   "source": [
    "Computational Linguistics Project\n",
    "\n",
    "*Winter semester, 2018-2019*\n",
    "\n",
    "**Sourav Dutta (2576494)**\n",
    "\n",
    "# Can we find Synonyms and Antonyms from word embedding analogy?"
   ]
  },
  {
   "cell_type": "markdown",
   "metadata": {},
   "source": [
    "## 1. Import all necessary libraries"
   ]
  },
  {
   "cell_type": "code",
   "execution_count": 728,
   "metadata": {},
   "outputs": [],
   "source": [
    "import os\n",
    "import random                      \n",
    "                                        \n",
    "import numpy as np                    # for mathematical calculations\n",
    "import pandas as pd                   # for loading dataset\n",
    "import matplotlib.pyplot as plt       # for plotting graphs and visualizations\n",
    "\n",
    "from sklearn.manifold import TSNE     # for dimensionality reduction needed for visualization\n",
    "\n",
    "from nltk.corpus import wordnet as wn # wordnet corpus to find synonyms and antonyms for given input word"
   ]
  },
  {
   "cell_type": "markdown",
   "metadata": {},
   "source": [
    "## 2. Load the pre-trained GloVe embeddings\n",
    "\n",
    "**NOTE: In order to make this work, we need to first download \n",
    "the pre-trained GloVe embeddings provided by Stanford.**\n",
    "\n",
    "They can be downloaded here: https://nlp.stanford.edu/projects/glove/"
   ]
  },
  {
   "cell_type": "code",
   "execution_count": 729,
   "metadata": {},
   "outputs": [
    {
     "data": {
      "text/plain": [
       "['glove.6B.200d.txt',\n",
       " 'glove.6B.50d.txt',\n",
       " 'glove.6B.300d.txt',\n",
       " 'glove.6B.100d.txt']"
      ]
     },
     "execution_count": 729,
     "metadata": {},
     "output_type": "execute_result"
    }
   ],
   "source": [
    "'''\n",
    "This shows us the list of GloVe embedding files available.\n",
    "However, we will be using the 'glove.6B.300d.txt' file\n",
    "containing 300 dimensional vector embeddings for each word.\n",
    "'''\n",
    "\n",
    "os.listdir('embeddings')          # list of pre-trained GloVe embedding files"
   ]
  },
  {
   "cell_type": "code",
   "execution_count": 42,
   "metadata": {},
   "outputs": [],
   "source": [
    "'''\n",
    "function load_embeddings(file_path):\n",
    "\n",
    "This function helps us to load the embedding file for use.\n",
    "We parse the embedding file into proper usage format, \n",
    "returning a complete list of unique words as our \n",
    "vocabulary and the corresponding dictionary of word\n",
    "vectors for each of those words from the embeddings.\n",
    "'''\n",
    "\n",
    "def load_embeddings(file_path):\n",
    "    \n",
    "    '''\n",
    "    We use a set() data structure here because we need\n",
    "    a collection of unique words only.\n",
    "    '''\n",
    "    word_vocabulary = set()\n",
    "    \n",
    "    '''\n",
    "    We use a dictionary for storing word vectors for each\n",
    "    of the words from the vocabulary.\n",
    "    '''\n",
    "    word_2_vectors = {}\n",
    "    \n",
    "    with open(file_path, 'r') as file:\n",
    "        for line in file:\n",
    "            \n",
    "            '''\n",
    "            We use the strip() method in order to avoid any\n",
    "            whitespace characters (space, tabs, etc.) from each\n",
    "            line in the file.\n",
    "            '''\n",
    "            line = line.strip()\n",
    "            \n",
    "            vectors = line.split()\n",
    "            word = vectors[0]\n",
    "            \n",
    "            word_vocabulary.add(word)\n",
    "            \n",
    "            '''\n",
    "            Each word vector is stored as a numpy array so that\n",
    "            it is easier to work with in the further calculations.\n",
    "            '''\n",
    "            word_2_vectors[word] = np.array(vectors[1:], dtype='float')\n",
    "    \n",
    "    return word_vocabulary, word_2_vectors"
   ]
  },
  {
   "cell_type": "code",
   "execution_count": 43,
   "metadata": {},
   "outputs": [
    {
     "name": "stdout",
     "output_type": "stream",
     "text": [
      "Total number of unique words (vocabulary) in 300 dimensional embeddings: 400000\n"
     ]
    }
   ],
   "source": [
    "'''\n",
    "We had previously experimented with all the 4 kinds of GloVe input files \n",
    "that we got from Stanford website. However, in the end we decided to \n",
    "finalize the word embeddings with the highest dimensions (300) as they are\n",
    "able to capture more information about each word.\n",
    "'''\n",
    "\n",
    "########################################################################\n",
    "# NOTE: Use the directory path in your local system to make this work! #\n",
    "########################################################################\n",
    "\n",
    "# file_path_GloVe_50d = 'embeddings/glove.6B.50d.txt'\n",
    "# file_path_GloVe_100d = 'embeddings/glove.6B.100d.txt'\n",
    "# file_path_GloVe_200d = 'embeddings/glove.6B.200d.txt'\n",
    "\n",
    "file_path_GloVe_300d = 'embeddings/glove.6B.300d.txt'\n",
    "\n",
    "# vocabulary_50d, word_vectors_50d = load_embeddings(file_path_GloVe_50d)\n",
    "# vocabulary_100d, word_vectors_100d = load_embeddings(file_path_GloVe_100d)\n",
    "# vocabulary_200d, word_vectors_200d = load_embeddings(file_path_GloVe_200d)\n",
    "\n",
    "vocabulary_300d, word_vectors_300d = load_embeddings(file_path_GloVe_300d)\n",
    "\n",
    "# print('Total number of unique words (vocabulary) in 50 dimensional embeddings: %d' % len(vocabulary_50d))\n",
    "# print('Total number of unique words (vocabulary) in 100 dimensional embeddings: %d' % len(vocabulary_100d))\n",
    "# print('Total number of unique words (vocabulary) in 200 dimensional embeddings: %d' % len(vocabulary_200d))\n",
    "\n",
    "print('Total number of unique words (vocabulary) in 300 dimensional embeddings: %d' % len(vocabulary_300d))"
   ]
  },
  {
   "cell_type": "markdown",
   "metadata": {},
   "source": [
    "## 3. Visualize the pre-trained GloVe embeddings with t-SNE"
   ]
  },
  {
   "cell_type": "code",
   "execution_count": 230,
   "metadata": {},
   "outputs": [],
   "source": [
    "'''\n",
    "function get_visualization_matrix(words, dim=300):\n",
    "\n",
    "This function is used in order to \n",
    "'''\n",
    "\n",
    "def get_visualization_matrix(words, dim=300):\n",
    "    \n",
    "    words_matrix = np.random.randn(len(words), dim)\n",
    "    i = 0\n",
    "    \n",
    "    for word in words:\n",
    "        words_matrix[i] = word_vectors_300d[word]\n",
    "        i += 1\n",
    "    \n",
    "    return words_matrix"
   ]
  },
  {
   "cell_type": "code",
   "execution_count": 231,
   "metadata": {},
   "outputs": [
    {
     "name": "stdout",
     "output_type": "stream",
     "text": [
      "Sample words:\n",
      "\n",
      "['lion', 'school', 'kind', 'love', 'give', 'sleep', 'early', 'never', 'under', 'into']\n"
     ]
    }
   ],
   "source": []
  },
  {
   "cell_type": "code",
   "execution_count": 719,
   "metadata": {},
   "outputs": [],
   "source": [
    "'''\n",
    "First we define the tsne variable using the TSNE function.\n",
    "\n",
    "n_components =  The number of components that we would like \n",
    "                to reduce the dimmensionality to. Here, we\n",
    "                want to visualize the words in a 2d vector \n",
    "                space, so the value is 2.\n",
    "\n",
    "verbose      =  This parameter is used to output the log text\n",
    "\n",
    "perplexity   =  The perplexity is related to the number of nearest\n",
    "                neighbors that is used in other manifold learning \n",
    "                algorithms.\n",
    "\n",
    "method       =  The exact algorithm should be used when \n",
    "                nearest-neighbor errors need to be better than 3%.\n",
    "'''\n",
    "\n",
    "tsne = TSNE(n_components=2, \n",
    "            verbose=0, \n",
    "            perplexity=3, \n",
    "            method='exact')"
   ]
  },
  {
   "cell_type": "code",
   "execution_count": 720,
   "metadata": {},
   "outputs": [],
   "source": [
    "'''\n",
    "function get_tsne_results(words):\n",
    "\n",
    "\n",
    "'''\n",
    "\n",
    "def get_tsne_results(words):\n",
    "    \n",
    "    '''\n",
    "    First we get the visual matrix for the list of input words\n",
    "    which we want to show in the visualization.\n",
    "    '''\n",
    "    visual_matrix = get_visualization_matrix(words)\n",
    "    \n",
    "    '''\n",
    "    Next we use the fit.transform() method of tsne in order to\n",
    "    reduce the dimensionality of the word embeddings.\n",
    "    '''\n",
    "    tsne_results = tsne.fit_transform(visual_matrix)\n",
    "    \n",
    "    '''\n",
    "    We return the new word embedding vectors in the reduced\n",
    "    dimension.\n",
    "    '''\n",
    "    return tsne_results"
   ]
  },
  {
   "cell_type": "code",
   "execution_count": 721,
   "metadata": {},
   "outputs": [
    {
     "name": "stdout",
     "output_type": "stream",
     "text": [
      "Sample words:\n",
      "\n",
      "['lion', 'school', 'kind', 'love', 'give', 'sleep', 'early', 'never', 'under', 'into']\n"
     ]
    }
   ],
   "source": [
    "'''\n",
    "Here we provide a sample list of words that we would like to visualize\n",
    "using t-SNE in a 2d vector space.\n",
    "'''\n",
    "\n",
    "sample_words = ['lion', 'school', 'kind', 'love', 'give', 'sleep', 'early', 'never', 'under', 'into']\n",
    "\n",
    "print('Sample words:\\n\\n%s' % sample_words)\n",
    "\n",
    "'''\n",
    "We call the get_tsne_results() function with the\n",
    "sample_words list as input to obtain the word\n",
    "embeddings for those words.\n",
    "'''\n",
    "\n",
    "tsne_results = get_tsne_results(sample_words)"
   ]
  },
  {
   "cell_type": "code",
   "execution_count": 234,
   "metadata": {},
   "outputs": [],
   "source": [
    "'''\n",
    "function visualize_words(words, tsne_results):\n",
    "\n",
    "In this function, we try to finally visualize the words in a\n",
    "2d vector space.\n",
    "'''\n",
    "\n",
    "def visualize_words(words, tsne_results):\n",
    "    \n",
    "    '''\n",
    "    Size of the plot/figure\n",
    "    '''\n",
    "    plt.figure(figsize=(20, 10))\n",
    "    \n",
    "    '''\n",
    "    We use the scatter plot feature of matplotlib for visualization\n",
    "    '''\n",
    "    plt.scatter(tsne_results[:,0], tsne_results[:,1], cmap=plt.get_cmap('Spectral'))\n",
    "    \n",
    "    '''\n",
    "    This block of code is used for annotation of the points with the\n",
    "    corresponding word text\n",
    "    '''\n",
    "    for label, x, y in zip(words, tsne_results[:, 0], tsne_results[:, 1]):\n",
    "        plt.annotate(label, \n",
    "                     xy=(x, y), \n",
    "                     xytext=(-14, 14), \n",
    "                     textcoords='offset points',\n",
    "                     fontsize=20)\n",
    "\n",
    "    '''\n",
    "    Some further features of the visualization\n",
    "    '''\n",
    "    plt.xlabel('t-SNE Component 1', fontsize=20)\n",
    "    plt.ylabel('t-SNE Component 2', fontsize=20)\n",
    "    plt.title('GloVe visualization using t-SNE', fontsize=20)"
   ]
  },
  {
   "cell_type": "code",
   "execution_count": 235,
   "metadata": {},
   "outputs": [
    {
     "data": {
      "image/png": "[encoded data removed]",
      "text/plain": [
       "<Figure size 1440x720 with 1 Axes>"
      ]
     },
     "metadata": {
      "needs_background": "light"
     },
     "output_type": "display_data"
    }
   ],
   "source": [
    "'''\n",
    "Here we call the visualize_words() function with the\n",
    "sample_words input list in order to visualize them\n",
    "on the 2d vector space.\n",
    "'''\n",
    "visualize_words(sample_words, get_tsne_results(sample_words))"
   ]
  },
  {
   "cell_type": "markdown",
   "metadata": {},
   "source": [
    "## 4. Similarity between pair of words using Cosine Similarity"
   ]
  },
  {
   "cell_type": "code",
   "execution_count": 122,
   "metadata": {},
   "outputs": [],
   "source": [
    "'''\n",
    "function calculate_cosine_similarity(word1_vector, word2_vector):\n",
    "\n",
    "Here in this function we calculate the cosine similarity between\n",
    "any two given words using their word embedding vectors.\n",
    "'''\n",
    "\n",
    "def calculate_cosine_similarity(word1_vector, word2_vector):\n",
    "    \n",
    "    '''\n",
    "    The numerator is a dot product between the two vectors\n",
    "    '''\n",
    "    numerator = word1_vector.dot(word2_vector)\n",
    "    \n",
    "    '''\n",
    "    The denominator is the product of norms the two vectors, \n",
    "    which is, square root of the sum of squares.\n",
    "    '''\n",
    "    denominator = np.sqrt(np.sum(np.square(word1_vector))) * np.sqrt(np.sum(np.square(word2_vector)))\n",
    "    \n",
    "    return numerator / denominator"
   ]
  },
  {
   "cell_type": "markdown",
   "metadata": {},
   "source": [
    "### Testing the cosine similarity between different pairs of words"
   ]
  },
  {
   "cell_type": "code",
   "execution_count": 156,
   "metadata": {},
   "outputs": [
    {
     "name": "stdout",
     "output_type": "stream",
     "text": [
      "0.7568217373652817\n",
      "0.39150782850154353\n",
      "0.5449445962780685\n",
      "0.41597764093779904\n",
      "0.05061528045061367\n",
      "0.6456044179249635\n",
      "0.5022534169465177\n",
      "0.08017156167913571\n",
      "0.5818218483965079\n",
      "0.3263724032698907\n"
     ]
    }
   ],
   "source": [
    "# Testing similarity scores between word pair samples\n",
    "\n",
    "############################\n",
    "# Family and relationships #\n",
    "############################\n",
    "\n",
    "    # father - mother\n",
    "\n",
    "print(calculate_cosine_similarity(word_vectors_300d['father'], word_vectors_300d['mother']))\n",
    "\n",
    "    # father - baby\n",
    "\n",
    "print(calculate_cosine_similarity(word_vectors_300d['father'], word_vectors_300d['baby']))\n",
    "\n",
    "    # mother - baby\n",
    "\n",
    "print(calculate_cosine_similarity(word_vectors_300d['mother'], word_vectors_300d['baby']))\n",
    "\n",
    "\n",
    "#########################\n",
    "# Places and activities #\n",
    "#########################\n",
    "    \n",
    "    # office - work\n",
    "\n",
    "print(calculate_cosine_similarity(word_vectors_300d['office'], word_vectors_300d['work']))\n",
    "\n",
    "    # playground - work\n",
    "\n",
    "print(calculate_cosine_similarity(word_vectors_300d['playground'], word_vectors_300d['work']))\n",
    "\n",
    "\n",
    "###########################################\n",
    "# Geographical locations (and capitals ?) #\n",
    "###########################################\n",
    "\n",
    "    # germany - berlin\n",
    "\n",
    "print(calculate_cosine_similarity(word_vectors_300d['germany'], word_vectors_300d['berlin']))\n",
    "\n",
    "    # germany - stuttgart\n",
    "\n",
    "print(calculate_cosine_similarity(word_vectors_300d['germany'], word_vectors_300d['stuttgart']))\n",
    "\n",
    "    # germany - toronto\n",
    "\n",
    "print(calculate_cosine_similarity(word_vectors_300d['germany'], word_vectors_300d['toronto']))\n",
    "\n",
    "\n",
    "##########################\n",
    "# Synonyms and Anotonyms #\n",
    "##########################\n",
    "\n",
    "# love - affection\n",
    "\n",
    "print(calculate_cosine_similarity(word_vectors_300d['love'], word_vectors_300d['affection']))\n",
    "\n",
    "# love - hatred\n",
    "\n",
    "print(calculate_cosine_similarity(word_vectors_300d['love'], word_vectors_300d['hatred']))"
   ]
  },
  {
   "cell_type": "markdown",
   "metadata": {},
   "source": [
    "### 4.1. Family and relationships\n",
    "\n",
    "|Word 1|Word 2|Similarity Score|Percentage Similar|\n",
    "|------|------|----------------|------------------|\n",
    "|father|mother|0.756821|75.68 %|\n",
    "|father|baby|0.391507|39.15 %|\n",
    "|mother|baby|0.544944|54.49 %|"
   ]
  },
  {
   "cell_type": "markdown",
   "metadata": {},
   "source": [
    "### 4.2. Places and activities\n",
    "\n",
    "|Word 1|Word 2|Similarity Score|Percentage Similar|\n",
    "|------|------|----------------|------------------|\n",
    "|office|work|0.415977|41.60 %|\n",
    "|playground|work|0.050615|5.06 %|"
   ]
  },
  {
   "cell_type": "markdown",
   "metadata": {},
   "source": [
    "### 4.3. Geographical locations (and capitals ?)\n",
    "\n",
    "|Word 1|Word 2|Similarity Score|Percentage Similar|\n",
    "|------|------|----------------|------------------|\n",
    "|germany|berlin|0.645604|64.56 %|\n",
    "|germany|stuttgart|0.502253|50.23 %|\n",
    "|germany|toronto|0.080171|8.02 %|"
   ]
  },
  {
   "cell_type": "markdown",
   "metadata": {},
   "source": [
    "### 4.4. Synonyms and Antonyms\n",
    "\n",
    "|Word 1|Word 2|Similarity Score|Percentage Similar|\n",
    "|------|------|----------------|------------------|\n",
    "|love|affection|0.581821|58.18 %|\n",
    "|love|hatred|0.326372|32.64 %|"
   ]
  },
  {
   "cell_type": "markdown",
   "metadata": {},
   "source": [
    "## 5. Synonyms and Antonyms using WordNet"
   ]
  },
  {
   "cell_type": "code",
   "execution_count": 221,
   "metadata": {},
   "outputs": [],
   "source": [
    "'''\n",
    "function get_synonyms(word):\n",
    "\n",
    "In this function, we try to find a list of synonyms \n",
    "for a given input word using the NLTK WordNet corpus.\n",
    "'''\n",
    "def get_synonyms(word):\n",
    "    \n",
    "    synonyms = []\n",
    "    \n",
    "    '''\n",
    "    We find all possible synonyms for the word using all\n",
    "    the synsets that word has.\n",
    "    '''\n",
    "    for synset in wn.synsets(word):\n",
    "        \n",
    "        '''\n",
    "        We check all the 'lemmas' for each synset of the\n",
    "        word.\n",
    "        '''\n",
    "        for lemma in synset.lemmas():\n",
    "            \n",
    "            synonyms.append(lemma.name())\n",
    "    \n",
    "    '''\n",
    "    We return a list of set of the synonyms. This is done in \n",
    "    order to make sure that we get a unique list of synonyms.\n",
    "    '''\n",
    "    return list(set(synonyms))"
   ]
  },
  {
   "cell_type": "code",
   "execution_count": 222,
   "metadata": {},
   "outputs": [],
   "source": [
    "'''\n",
    "function get_antonyms(word):\n",
    "\n",
    "In this function, we try to find a list of antonyms \n",
    "for a given input word using the NLTK WordNet corpus.\n",
    "'''\n",
    "def get_antonyms(word):\n",
    "    \n",
    "    antonyms = []\n",
    "    \n",
    "    '''\n",
    "    We find all possible antonyms for the word using all\n",
    "    the synsets that word has.\n",
    "    '''\n",
    "    for synset in wn.synsets(word):\n",
    "        \n",
    "        '''\n",
    "        We check all the 'lemmas' for each synset of the\n",
    "        word.\n",
    "        '''\n",
    "        for lemma in synset.lemmas():\n",
    "           \n",
    "            if lemma.antonyms():\n",
    "                antonyms.append(lemma.antonyms()[0].name())\n",
    "                \n",
    "    '''\n",
    "    We return a list of set of the synonyms. This is done in \n",
    "    order to make sure that we get a unique list of antonyms.\n",
    "    '''\n",
    "    return list(set(antonyms))"
   ]
  },
  {
   "cell_type": "markdown",
   "metadata": {},
   "source": [
    "### 5.1. Testing synonyms and antonyms for different parts of speech"
   ]
  },
  {
   "cell_type": "code",
   "execution_count": 319,
   "metadata": {},
   "outputs": [
    {
     "name": "stdout",
     "output_type": "stream",
     "text": [
      "Word: earthquake\n",
      "Synonyms: ['earthquake', 'temblor', 'seism', 'quake']\n",
      "Antonyms: []\n",
      "\n",
      "Word: talented\n",
      "Synonyms: ['talented', 'gifted']\n",
      "Antonyms: ['untalented']\n",
      "\n",
      "Word: walk\n",
      "Synonyms: ['walkway', 'pass', 'take_the_air', 'base_on_balls', 'walk', 'paseo', 'walk_of_life', 'walking', 'manner_of_walking']\n",
      "Antonyms: ['ride']\n",
      "\n",
      "Word: below\n",
      "Synonyms: ['downstairs', 'down_the_stairs', 'to_a_lower_place', 'beneath', 'at_a_lower_place', 'below', 'under', 'infra', 'on_a_lower_floor']\n",
      "Antonyms: ['above', 'upstairs']\n",
      "\n",
      "Word: quickly\n",
      "Synonyms: ['speedily', 'apace', 'rapidly', 'quickly', 'cursorily', 'chop-chop', 'promptly', 'quick']\n",
      "Antonyms: ['slowly']\n"
     ]
    }
   ],
   "source": [
    "#########\n",
    "# Nouns #\n",
    "#########\n",
    "\n",
    "noun = 'earthquake'\n",
    "\n",
    "print('Word: %s' % noun)\n",
    "print('Synonyms: %s' % get_synonyms(noun))\n",
    "print('Antonyms: %s' % get_antonyms(noun))\n",
    "\n",
    "##############\n",
    "# Adjectives #\n",
    "##############\n",
    "\n",
    "adjective = 'talented'\n",
    "\n",
    "print('\\nWord: %s' % adjective)\n",
    "print('Synonyms: %s' % get_synonyms(adjective))\n",
    "print('Antonyms: %s' % get_antonyms(adjective))\n",
    "\n",
    "#########\n",
    "# Verbs #\n",
    "#########\n",
    "\n",
    "verb = 'walk'\n",
    "\n",
    "print('\\nWord: %s' % verb)\n",
    "print('Synonyms: %s' % get_synonyms(verb))\n",
    "print('Antonyms: %s' % get_antonyms(verb))\n",
    "\n",
    "################\n",
    "# Prepositions #\n",
    "################\n",
    "\n",
    "preposition = 'below'\n",
    "\n",
    "print('\\nWord: %s' % preposition)\n",
    "print('Synonyms: %s' % get_synonyms(preposition))\n",
    "print('Antonyms: %s' % get_antonyms(preposition))\n",
    "\n",
    "###########\n",
    "# Adverbs #\n",
    "###########\n",
    "\n",
    "adverb = 'quickly'\n",
    "\n",
    "print('\\nWord: %s' % adverb)\n",
    "print('Synonyms: %s' % get_synonyms(adverb))\n",
    "print('Antonyms: %s' % get_antonyms(adverb))"
   ]
  },
  {
   "cell_type": "markdown",
   "metadata": {},
   "source": [
    "## 6. Get related words using relationship between embeddings"
   ]
  },
  {
   "cell_type": "code",
   "execution_count": 360,
   "metadata": {},
   "outputs": [],
   "source": [
    "'''\n",
    "function get_related_word(word1, word2, word3, word_vectors=word_vectors_300d):\n",
    "\n",
    "------------------------------------------------------------------------------------\n",
    "word1, word2 =  These are the given input word pair which are taken as reference\n",
    "                to find the new word for another input word.\n",
    "\n",
    "word3        =  The new input word for which we need to find a related word.\n",
    "\n",
    "word_vectors =  This is the dictionary of word vectors. By default, we are using\n",
    "                the 300 dimensional word vector dictionary that we calculated before.\n",
    "-------------------------------------------------------------------------------------\n",
    "\n",
    "This function is used to find a similar word for a given new input word using the\n",
    "similarity relationship between a pair of words.\n",
    "'''\n",
    "\n",
    "def get_related_word(word1, word2, word3, word_vectors=word_vectors_300d):\n",
    "    \n",
    "    '''\n",
    "    This parameter is used for comparison purpose. We use this to find\n",
    "    and store the maximum similarity value between word embedding vectors.\n",
    "    '''\n",
    "    max_similarity = -1000\n",
    "    \n",
    "    '''\n",
    "    We make sure that all the words that we are dealing with are in the lowercase\n",
    "    because the word embedding dictionary contains all lowercase forms of the words.\n",
    "    '''\n",
    "    word1, word2, word3 = word1.lower(), word2.lower(), word3.lower()\n",
    "    \n",
    "    '''\n",
    "    We calculate the word vector value from the existing word vectors here.\n",
    "    '''\n",
    "    new_word_vector = word_vectors[word3] - (word_vectors[word1] - word_vectors[word2])\n",
    "    \n",
    "    '''\n",
    "    We have the new word vector. Now we try to find the nearest possible similar word \n",
    "    corresponding to that vector from our vocabulary of words.\n",
    "    '''\n",
    "    for word in vocabulary_300d:\n",
    "        \n",
    "        vector = word_vectors[word]\n",
    "        \n",
    "        '''\n",
    "        TO find simlilarity, we use our calculate_cosine_similarity() function.\n",
    "        '''\n",
    "        similarity = calculate_cosine_similarity(word1_vector=new_word_vector, word2_vector=vector)\n",
    "        \n",
    "        '''\n",
    "        Here we check if the similarity of the words is greater than the \n",
    "        maximum similarity value that we already have in the iteration process.'''\n",
    "        if similarity > max_similarity:\n",
    "            max_similarity = similarity\n",
    "            word4 = word\n",
    "    \n",
    "    return word4"
   ]
  },
  {
   "cell_type": "markdown",
   "metadata": {},
   "source": [
    "### Testing the analogy relationships between different words"
   ]
  },
  {
   "cell_type": "code",
   "execution_count": 521,
   "metadata": {},
   "outputs": [
    {
     "name": "stdout",
     "output_type": "stream",
     "text": [
      "\"king\" is related to \"queen\", as \"man\" is related to -> \"woman\"\n",
      "\"brother\" is related to \"sister\", as \"prince\" is related to -> \"princess\"\n"
     ]
    }
   ],
   "source": [
    "######################################\n",
    "# Gender-based analogy relationships #\n",
    "######################################\n",
    "\n",
    "# king -> queen ... man -> ?\n",
    "\n",
    "print('\"king\" is related to \"queen\", as \"man\" is related to -> \"%s\"' \n",
    "      % get_related_word('king', 'queen', 'man'))\n",
    "\n",
    "# brother -> sister ... prince -> ?\n",
    "\n",
    "print('\"brother\" is related to \"sister\", as \"prince\" is related to -> \"%s\"' \n",
    "      % get_related_word('brother', 'sister', 'prince'))"
   ]
  },
  {
   "cell_type": "code",
   "execution_count": 512,
   "metadata": {},
   "outputs": [
    {
     "data": {
      "image/png": "[encoded data removed]",
      "text/plain": [
       "<Figure size 1440x720 with 1 Axes>"
      ]
     },
     "metadata": {
      "needs_background": "light"
     },
     "output_type": "display_data"
    }
   ],
   "source": [
    "'''\n",
    "Here we try to visualize the words 'king', 'queen', 'woman' and 'man'\n",
    "in a 2d vector-space in order to understand their relationship \n",
    "similarity visually.\n",
    "'''\n",
    "\n",
    "sample_words = ['king', 'queen', 'woman', 'man']\n",
    "visualize_words(sample_words, get_tsne_results(sample_words))"
   ]
  },
  {
   "cell_type": "code",
   "execution_count": 513,
   "metadata": {},
   "outputs": [
    {
     "name": "stdout",
     "output_type": "stream",
     "text": [
      "\"father\" is related to \"mother\", as \"son\" is related to -> \"daughter\"\n",
      "\"grandfather\" is related to \"grandmother\", as \"father\" is related to -> \"mother\"\n"
     ]
    }
   ],
   "source": [
    "################################\n",
    "# Family analogy relationships #\n",
    "################################\n",
    "\n",
    "# father -> mother ... son -> ?\n",
    "\n",
    "print('\"father\" is related to \"mother\", as \"son\" is related to -> \"%s\"' \n",
    "      % get_related_word('father', 'mother', 'son'))\n",
    "\n",
    "# grandfather -> grandmother ... father -> ?\n",
    "\n",
    "print('\"grandfather\" is related to \"grandmother\", as \"father\" is related to -> \"%s\"' \n",
    "      % get_related_word('grandfather', 'grandmother', 'father'))"
   ]
  },
  {
   "cell_type": "code",
   "execution_count": 722,
   "metadata": {},
   "outputs": [
    {
     "name": "stdout",
     "output_type": "stream",
     "text": [
      "\"germany\" is related to \"berlin\", as \"japan\" is related to -> \"tokyo\"\n",
      "\"germany\" is related to \"berlin\", as \"france\" is related to -> \"paris\"\n",
      "\"germany\" is related to \"berlin\", as \"russia\" is related to -> \"moscow\"\n",
      "\n",
      "\"berlin\" is related to \"germany\", as \"delhi\" is related to -> \"india\"\n"
     ]
    }
   ],
   "source": [
    "#########################################\n",
    "# Country-capital analogy relationships #\n",
    "#########################################\n",
    "\n",
    "# germany -> berlin ... japan -> ?\n",
    "\n",
    "print('\"germany\" is related to \"berlin\", as \"japan\" is related to -> \"%s\"' \n",
    "      % get_related_word('germany', 'berlin', 'japan'))\n",
    "\n",
    "# germany -> berlin ... france -> ?\n",
    "\n",
    "print('\"germany\" is related to \"berlin\", as \"france\" is related to -> \"%s\"' \n",
    "      % get_related_word('germany', 'berlin', 'france'))\n",
    "\n",
    "# germany -> berlin ... russia -> ?\n",
    "\n",
    "print('\"germany\" is related to \"berlin\", as \"russia\" is related to -> \"%s\"' \n",
    "      % get_related_word('germany', 'berlin', 'russia'))\n",
    "\n",
    "#########################################\n",
    "# Capital-country analogy relationships #\n",
    "#########################################\n",
    "\n",
    "# berlin -> germany ... delhi -> ?\n",
    "\n",
    "print('\\n\"berlin\" is related to \"germany\", as \"delhi\" is related to -> \"%s\"' \n",
    "      % get_related_word('berlin', 'germany', 'delhi'))"
   ]
  },
  {
   "cell_type": "code",
   "execution_count": 462,
   "metadata": {},
   "outputs": [
    {
     "name": "stdout",
     "output_type": "stream",
     "text": [
      "\"germany\" is related to \"berlin\", as \"australia\" is related to -> \"sydney\"\n",
      "\"germany\" is related to \"berlin\", as \"canada\" is related to -> \"canada\"\n"
     ]
    }
   ],
   "source": [
    "###########################################################\n",
    "# Country-capital analogy relationships (not so accurate) #\n",
    "###########################################################\n",
    "\n",
    "# germany -> berlin ... australia -> ?\n",
    "\n",
    "print('\"germany\" is related to \"berlin\", as \"australia\" is related to -> \"%s\"' \n",
    "      % get_related_word('germany', 'berlin', 'australia'))\n",
    "\n",
    "# germany -> berlin ... canada -> ?\n",
    "\n",
    "print('\"germany\" is related to \"berlin\", as \"canada\" is related to -> \"%s\"' \n",
    "      % get_related_word('germany', 'berlin', 'canada'))"
   ]
  },
  {
   "cell_type": "markdown",
   "metadata": {},
   "source": [
    "### Synonym analogy relationships"
   ]
  },
  {
   "cell_type": "code",
   "execution_count": 724,
   "metadata": {},
   "outputs": [
    {
     "name": "stdout",
     "output_type": "stream",
     "text": [
      "\"intelligent\" is related to \"clever\", as \"stupid\" is related to -> \"stupid\"\n",
      "\"hot\" is related to \"warm\", as \"cold\" is related to -> \"cold\"\n",
      "\n",
      "\"better\" is related to \"best\", as \"worse\" is related to -> \"worst\"\n",
      "\n",
      "\"cow\" is related to \"cows\", as \"horse\" is related to -> \"horses\"\n"
     ]
    }
   ],
   "source": [
    "############################\n",
    "# Not so accurate antonyms #\n",
    "############################\n",
    "\n",
    "# intelligent -> clever ... stupid -> ?\n",
    "\n",
    "print('\"intelligent\" is related to \"clever\", as \"stupid\" is related to -> \"%s\"' \n",
    "      % get_related_word('intelligent', 'clever', 'stupid'))\n",
    "\n",
    "# hot -> warm ... cold -> ?\n",
    "\n",
    "print('\"hot\" is related to \"warm\", as \"cold\" is related to -> \"%s\"' \n",
    "      % get_related_word('hot', 'warm', 'cold'))\n",
    "\n",
    "######################################\n",
    "# Comparative-Superlative adjectives #\n",
    "######################################\n",
    "\n",
    "# better -> best ... worse -> ?\n",
    "\n",
    "print('\\n\"better\" is related to \"best\", as \"worse\" is related to -> \"%s\"' \n",
    "      % get_related_word('better', 'best', 'worse'))\n",
    "\n",
    "#########################\n",
    "# Singular-plural forms #\n",
    "#########################\n",
    "\n",
    "# cow -> cows ... horse -> ?\n",
    "\n",
    "print('\\n\"cow\" is related to \"cows\", as \"horse\" is related to -> \"%s\"' \n",
    "      % get_related_word('cow', 'cows', 'horse'))"
   ]
  },
  {
   "cell_type": "markdown",
   "metadata": {},
   "source": [
    "### Antonym analogy relationships"
   ]
  },
  {
   "cell_type": "code",
   "execution_count": 726,
   "metadata": {},
   "outputs": [
    {
     "name": "stdout",
     "output_type": "stream",
     "text": [
      "\"live\" is related to \"die\", as \"stay\" is related to -> \"die\"\n",
      "\"feed\" is related to \"starve\", as \"live\" is related to -> \"starve\"\n",
      "\"good\" is related to \"bad\", as \"kind\" is related to -> \"bad\"\n",
      "\n",
      "\"better\" is related to \"worse\", as \"best\" is related to -> \"worst\"\n"
     ]
    }
   ],
   "source": [
    "#######################\n",
    "# Synonyms (arguable) #\n",
    "#######################\n",
    "\n",
    "# live -> die ... stay -> ?\n",
    "\n",
    "print('\"live\" is related to \"die\", as \"stay\" is related to -> \"%s\"' \n",
    "      % get_related_word('live', 'die', 'stay'))\n",
    "\n",
    "# feed -> starve ... live -> ?\n",
    "\n",
    "print('\"feed\" is related to \"starve\", as \"live\" is related to -> \"%s\"' \n",
    "      % get_related_word('feed', 'starve', 'live'))\n",
    "\n",
    "# good -> bad ... kind -> ?\n",
    "\n",
    "print('\"good\" is related to \"bad\", as \"kind\" is related to -> \"%s\"' \n",
    "      % get_related_word('good', 'bad', 'kind'))\n",
    "\n",
    "######################################\n",
    "# Comparative-Superlative adjectives #\n",
    "######################################\n",
    "\n",
    "# better -> worse ... best -> ?\n",
    "\n",
    "print('\\n\"better\" is related to \"worse\", as \"best\" is related to -> \"%s\"' \n",
    "      % get_related_word('better', 'worse', 'best'))"
   ]
  },
  {
   "cell_type": "code",
   "execution_count": null,
   "metadata": {},
   "outputs": [],
   "source": []
  }
 ],
 "metadata": {
  "kernelspec": {
   "display_name": "Python 3",
   "language": "python",
   "name": "python3"
  },
  "language_info": {
   "codemirror_mode": {
    "name": "ipython",
    "version": 3
   },
   "file_extension": ".py",
   "mimetype": "text/x-python",
   "name": "python",
   "nbconvert_exporter": "python",
   "pygments_lexer": "ipython3",
   "version": "3.6.7"
  }
 },
 "nbformat": 4,
 "nbformat_minor": 2
}
